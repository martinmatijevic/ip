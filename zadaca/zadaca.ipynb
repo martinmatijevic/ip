{
 "cells": [
  {
   "cell_type": "code",
   "execution_count": 1,
   "metadata": {
    "ExecuteTime": {
     "end_time": "2020-05-29T09:07:15.638620Z",
     "start_time": "2020-05-29T09:07:15.633619Z"
    }
   },
   "outputs": [],
   "source": [
    "from pj import *"
   ]
  },
  {
   "cell_type": "code",
   "execution_count": 2,
   "metadata": {
    "ExecuteTime": {
     "end_time": "2020-05-29T09:07:15.645621Z",
     "start_time": "2020-05-29T09:07:15.639621Z"
    }
   },
   "outputs": [],
   "source": [
    "class AN(enum.Enum):\n",
    "    PLUS, MINUS, PUTA, PODIJELJENO, NA, OTVORENA, ZATVORENA = '+-*/^()'\n",
    "    VECE, MANJE, JEDNAKO = '><='\n",
    "    VECEJEDNAKO, MANJEJEDNAKO, RAZLICITO = '>=', '<=', '!='\n",
    "    class BROJ(Token):\n",
    "        def vrijednost(self): return int(self.sadržaj)\n",
    "        def prevedi(self): yield 'PUSH', self.vrijednost()"
   ]
  },
  {
   "cell_type": "code",
   "execution_count": 3,
   "metadata": {
    "ExecuteTime": {
     "end_time": "2020-05-29T09:07:15.651623Z",
     "start_time": "2020-05-29T09:07:15.647622Z"
    },
    "code_folding": []
   },
   "outputs": [],
   "source": [
    "def an_lex(izraz):\n",
    "    lex = Tokenizer(izraz)\n",
    "    for znak in iter(lex.čitaj, ''):\n",
    "        if znak.isdigit():\n",
    "            if znak != '0': lex.zvijezda(str.isdigit)\n",
    "            yield lex.token(AN.BROJ)\n",
    "        else: yield lex.literal(AN)"
   ]
  },
  {
   "cell_type": "code",
   "execution_count": 4,
   "metadata": {
    "ExecuteTime": {
     "end_time": "2020-05-29T09:07:15.655624Z",
     "start_time": "2020-05-29T09:07:15.652623Z"
    },
    "code_folding": []
   },
   "outputs": [],
   "source": [
    "### Beskontekstna gramatika: (desno asocirani operatori)\n",
    "# izraz -> član (PLUS | MINUS | VECE | MANJE | JEDNAKO) izraz | član\n",
    "# član -> faktor PUTA član | faktor PODIJELJENO član | faktor\n",
    "# faktor -> baza NA faktor | baza\n",
    "# baza -> BROJ | OTVORENA izraz ZATVORENA"
   ]
  },
  {
   "cell_type": "code",
   "execution_count": 5,
   "metadata": {
    "ExecuteTime": {
     "end_time": "2020-05-29T09:07:15.659625Z",
     "start_time": "2020-05-29T09:07:15.656623Z"
    },
    "code_folding": []
   },
   "outputs": [],
   "source": [
    "### Apstraktna sintaksna stabla\n",
    "# Zbroj: pribrojnici\n",
    "# Razlika: umanjenici\n",
    "# Umnožak: faktori\n",
    "# Količnik: djeljenici\n",
    "# Potencija: baza eksponent"
   ]
  },
  {
   "cell_type": "code",
   "execution_count": 6,
   "metadata": {
    "ExecuteTime": {
     "end_time": "2020-05-29T09:07:15.671627Z",
     "start_time": "2020-05-29T09:07:15.660624Z"
    },
    "code_folding": []
   },
   "outputs": [],
   "source": [
    "class ANParser(Parser):\n",
    "    def izraz(self):\n",
    "        prvi = self.član()\n",
    "        if self >> AN.PLUS:\n",
    "            drugi = self.izraz()\n",
    "            return Zbroj([prvi, drugi])\n",
    "        elif self >> AN.MINUS:\n",
    "            drugi = self.izraz()\n",
    "            return Razlika([prvi, drugi])\n",
    "        elif self >> AN.VECE:\n",
    "            drugi = self.izraz()\n",
    "            return UsporedbaVece([prvi, drugi])\n",
    "        elif self >> AN.MANJE:\n",
    "            drugi = self.izraz()\n",
    "            return UsporedbaManje([prvi, drugi])\n",
    "        elif self >> AN.JEDNAKO:\n",
    "            drugi = self.izraz()\n",
    "            return UsporedbaJednako([prvi, drugi])\n",
    "        else:\n",
    "            return prvi\n",
    "\n",
    "    def član(self):\n",
    "        faktor = self.faktor()\n",
    "        if self >> AN.PUTA: return Umnožak([faktor, self.član()])\n",
    "        elif self >> AN.PODIJELJENO: return Količnik([faktor, self.član()])\n",
    "        else: return faktor\n",
    "\n",
    "    def faktor(self):\n",
    "        baza = self.baza()\n",
    "        if self >> AN.NA: return Potencija(baza, self.faktor())\n",
    "        else: return baza\n",
    "\n",
    "    def baza(self):\n",
    "        if self >> AN.BROJ: return self.zadnji\n",
    "        elif self >> AN.OTVORENA:\n",
    "            u_zagradi = self.izraz()\n",
    "            self.pročitaj(AN.ZATVORENA)\n",
    "            return u_zagradi\n",
    "        else: raise self.greška()\n",
    "\n",
    "    start = izraz"
   ]
  },
  {
   "cell_type": "code",
   "execution_count": 7,
   "metadata": {
    "ExecuteTime": {
     "end_time": "2020-05-29T09:07:15.675628Z",
     "start_time": "2020-05-29T09:07:15.672627Z"
    }
   },
   "outputs": [],
   "source": [
    "nula = Token(AN.BROJ, '0')\n",
    "jedan = Token(AN.BROJ, '1')"
   ]
  },
  {
   "cell_type": "code",
   "execution_count": 8,
   "metadata": {
    "ExecuteTime": {
     "end_time": "2020-05-29T09:07:15.682630Z",
     "start_time": "2020-05-29T09:07:15.677629Z"
    },
    "code_folding": []
   },
   "outputs": [],
   "source": [
    "class Zbroj(AST('pribrojnici')):\n",
    "    def vrijednost(izraz):\n",
    "        a, b = izraz.pribrojnici\n",
    "        return a.vrijednost() + b.vrijednost()\n",
    "\n",
    "    def prevedi(izraz):\n",
    "        a, b = izraz.pribrojnici\n",
    "        yield from a.prevedi()\n",
    "        yield from b.prevedi()\n",
    "        yield 'ADD',"
   ]
  },
  {
   "cell_type": "code",
   "execution_count": 9,
   "metadata": {
    "ExecuteTime": {
     "end_time": "2020-05-29T09:07:15.688631Z",
     "start_time": "2020-05-29T09:07:15.684630Z"
    },
    "code_folding": []
   },
   "outputs": [],
   "source": [
    "class Razlika(AST('umanjenici')):\n",
    "    def vrijednost(izraz):\n",
    "        a, b = izraz.umanjenici\n",
    "        return a.vrijednost() - b.vrijednost()\n",
    "\n",
    "    def prevedi(izraz):\n",
    "        a, b = izraz.umanjenici\n",
    "        yield from a.prevedi()\n",
    "        yield from b.prevedi()\n",
    "        yield 'SUB',"
   ]
  },
  {
   "cell_type": "code",
   "execution_count": 10,
   "metadata": {
    "ExecuteTime": {
     "end_time": "2020-05-29T09:07:15.694633Z",
     "start_time": "2020-05-29T09:07:15.689631Z"
    }
   },
   "outputs": [],
   "source": [
    "class UsporedbaVece(AST('sadrzaj')):\n",
    "    def vrijednost(izraz):\n",
    "        a, b = izraz.sadrzaj\n",
    "        if (int(a.vrijednost())>int(b.vrijednost())): return a.vrijednost()\n",
    "        else: raise SemantičkaGreška(int(a.vrijednost()), 'nije veći od', int(b.vrijednost()))\n",
    "\n",
    "    def prevedi(izraz):\n",
    "        a, b = izraz.sadrzaj\n",
    "        yield from a.prevedi()\n",
    "        yield from b.prevedi()\n",
    "        yield 'U>',"
   ]
  },
  {
   "cell_type": "code",
   "execution_count": 11,
   "metadata": {
    "ExecuteTime": {
     "end_time": "2020-05-29T09:07:15.700634Z",
     "start_time": "2020-05-29T09:07:15.695632Z"
    }
   },
   "outputs": [],
   "source": [
    "class UsporedbaManje(AST('sadrzaj')):\n",
    "    def vrijednost(izraz):\n",
    "        a, b = izraz.sadrzaj\n",
    "        if (int(a.vrijednost())<int(b.vrijednost())): return a.vrijednost()\n",
    "        else: raise SemantičkaGreška(int(a.vrijednost()), 'nije manji od', int(b.vrijednost()))\n",
    "\n",
    "    def prevedi(izraz):\n",
    "        a, b = izraz.sadrzaj\n",
    "        yield from a.prevedi()\n",
    "        yield from b.prevedi()\n",
    "        yield 'U<',"
   ]
  },
  {
   "cell_type": "code",
   "execution_count": 12,
   "metadata": {
    "ExecuteTime": {
     "end_time": "2020-05-29T09:07:15.706636Z",
     "start_time": "2020-05-29T09:07:15.701634Z"
    }
   },
   "outputs": [],
   "source": [
    "class UsporedbaJednako(AST('sadrzaj')):\n",
    "    def vrijednost(izraz):\n",
    "        a, b = izraz.sadrzaj\n",
    "        if (int(a.vrijednost())==int(b.vrijednost())): return a.vrijednost()\n",
    "        else: raise SemantičkaGreška('brojevi nisu isti')\n",
    "\n",
    "    def prevedi(izraz):\n",
    "        a, b = izraz.sadrzaj\n",
    "        yield from a.prevedi()\n",
    "        yield from b.prevedi()\n",
    "        yield 'U=',"
   ]
  },
  {
   "cell_type": "code",
   "execution_count": 13,
   "metadata": {
    "ExecuteTime": {
     "end_time": "2020-05-29T09:07:15.712636Z",
     "start_time": "2020-05-29T09:07:15.707636Z"
    },
    "code_folding": []
   },
   "outputs": [],
   "source": [
    "class Umnožak(AST('faktori')):\n",
    "    def vrijednost(izraz):\n",
    "        a, b = izraz.faktori\n",
    "        return a.vrijednost() * b.vrijednost()\n",
    "\n",
    "    def prevedi(izraz):\n",
    "        a, b = izraz.faktori\n",
    "        yield from a.prevedi()\n",
    "        yield from b.prevedi()\n",
    "        yield 'MUL',"
   ]
  },
  {
   "cell_type": "code",
   "execution_count": 14,
   "metadata": {
    "ExecuteTime": {
     "end_time": "2020-05-29T09:07:15.718637Z",
     "start_time": "2020-05-29T09:07:15.713636Z"
    }
   },
   "outputs": [],
   "source": [
    "class Količnik(AST('djeljenici')):\n",
    "    def vrijednost(izraz):\n",
    "        a, b = izraz.djeljenici\n",
    "        if (int(b.vrijednost())!=0): return a.vrijednost() / b.vrijednost()\n",
    "        else: raise SemantičkaGreška('nema dijeljenja s nulom')\n",
    "\n",
    "    def prevedi(izraz):\n",
    "        a, b = izraz.djeljenici\n",
    "        yield from a.prevedi()\n",
    "        yield from b.prevedi()\n",
    "        yield 'DIV',"
   ]
  },
  {
   "cell_type": "code",
   "execution_count": 15,
   "metadata": {
    "ExecuteTime": {
     "end_time": "2020-05-29T09:07:15.724639Z",
     "start_time": "2020-05-29T09:07:15.719638Z"
    }
   },
   "outputs": [],
   "source": [
    "class Potencija(AST('baza eksponent')):\n",
    "    def vrijednost(izraz):\n",
    "        return izraz.baza.vrijednost() ** izraz.eksponent.vrijednost()\n",
    "\n",
    "    def prevedi(izraz):\n",
    "        yield from izraz.baza.prevedi()\n",
    "        yield from izraz.eksponent.prevedi()\n",
    "        yield 'POW',\n"
   ]
  },
  {
   "cell_type": "code",
   "execution_count": 16,
   "metadata": {
    "ExecuteTime": {
     "end_time": "2020-05-29T09:07:15.730641Z",
     "start_time": "2020-05-29T09:07:15.725640Z"
    }
   },
   "outputs": [],
   "source": [
    "def testiraj(izraz):\n",
    "    stablo = ANParser.parsiraj(an_lex(izraz))\n",
    "    print(stablo)\n",
    "    mi = stablo.vrijednost()\n",
    "    print(izraz, 'mi:', mi)\n",
    "    for instrukcija in stablo.prevedi(): print('\\t', *instrukcija)\n",
    "    print(\"-----------------------------------------------------\")"
   ]
  },
  {
   "cell_type": "code",
   "execution_count": 17,
   "metadata": {
    "ExecuteTime": {
     "end_time": "2020-05-29T09:07:15.741643Z",
     "start_time": "2020-05-29T09:07:15.731640Z"
    }
   },
   "outputs": [
    {
     "name": "stdout",
     "output_type": "stream",
     "text": [
      "Količnik(djeljenici=[Razlika(umanjenici=[BROJ'3', BROJ'3']), Potencija(baza=BROJ'3', eksponent=BROJ'1')])\n",
      "(3-3)/3^1 mi: 0.0\n",
      "\t PUSH 3\n",
      "\t PUSH 3\n",
      "\t SUB\n",
      "\t PUSH 3\n",
      "\t PUSH 1\n",
      "\t POW\n",
      "\t DIV\n",
      "-----------------------------------------------------\n",
      "Potencija(baza=BROJ'2', eksponent=Potencija(baza=BROJ'0', eksponent=Potencija(baza=BROJ'0', eksponent=Potencija(baza=BROJ'0', eksponent=BROJ'0'))))\n",
      "2^0^0^0^0 mi: 2\n",
      "\t PUSH 2\n",
      "\t PUSH 0\n",
      "\t PUSH 0\n",
      "\t PUSH 0\n",
      "\t PUSH 0\n",
      "\t POW\n",
      "\t POW\n",
      "\t POW\n",
      "\t POW\n",
      "-----------------------------------------------------\n",
      "Zbroj(pribrojnici=[BROJ'2', Zbroj(pribrojnici=[BROJ'0', Umnožak(faktori=[BROJ'1', Umnožak(faktori=[BROJ'1', BROJ'2'])])])])\n",
      "2+(0+1*1*2) mi: 4\n",
      "\t PUSH 2\n",
      "\t PUSH 0\n",
      "\t PUSH 1\n",
      "\t PUSH 1\n",
      "\t PUSH 2\n",
      "\t MUL\n",
      "\t MUL\n",
      "\t ADD\n",
      "\t ADD\n",
      "-----------------------------------------------------\n",
      "LeksičkaGreška: Redak 1, stupac 2: neočekivan znak ' '\n",
      "SintaksnaGreška: Redak zadnji, stupac 0: neočekivan token KRAJ\n",
      "Očekivano: BROJ ili OTVORENA\n",
      "Količnik(djeljenici=[BROJ'2', BROJ'0'])\n",
      "SemantičkaGreška: nema dijeljenja s nulom\n"
     ]
    }
   ],
   "source": [
    "    testiraj('(3-3)/3^1')\n",
    "    testiraj('2^0^0^0^0')\n",
    "    testiraj('2+(0+1*1*2)')\n",
    "    with očekivano(LeksičkaGreška): testiraj('2 3')\n",
    "    with očekivano(SintaksnaGreška): testiraj('2+')\n",
    "    with očekivano(SemantičkaGreška): testiraj('2/0')"
   ]
  },
  {
   "cell_type": "code",
   "execution_count": 22,
   "metadata": {
    "ExecuteTime": {
     "end_time": "2020-05-29T09:08:01.084500Z",
     "start_time": "2020-05-29T09:08:01.073507Z"
    }
   },
   "outputs": [
    {
     "name": "stdout",
     "output_type": "stream",
     "text": [
      "UsporedbaVece(sadrzaj=[Zbroj(pribrojnici=[BROJ'2', BROJ'1']), BROJ'3'])\n"
     ]
    },
    {
     "ename": "SemantičkaGreška",
     "evalue": "(3, 'nije veći od ', 3)",
     "output_type": "error",
     "traceback": [
      "\u001b[1;31m---------------------------------------------------------------------------\u001b[0m",
      "\u001b[1;31mSemantičkaGreška\u001b[0m                          Traceback (most recent call last)",
      "\u001b[1;32m<ipython-input-22-542ab3bce2af>\u001b[0m in \u001b[0;36m<module>\u001b[1;34m\u001b[0m\n\u001b[1;32m----> 1\u001b[1;33m \u001b[0mtestiraj\u001b[0m\u001b[1;33m(\u001b[0m\u001b[1;34m'(2+1)>3'\u001b[0m\u001b[1;33m)\u001b[0m\u001b[1;33m\u001b[0m\u001b[1;33m\u001b[0m\u001b[0m\n\u001b[0m",
      "\u001b[1;32m<ipython-input-16-7eedc0c086dd>\u001b[0m in \u001b[0;36mtestiraj\u001b[1;34m(izraz)\u001b[0m\n\u001b[0;32m      2\u001b[0m     \u001b[0mstablo\u001b[0m \u001b[1;33m=\u001b[0m \u001b[0mANParser\u001b[0m\u001b[1;33m.\u001b[0m\u001b[0mparsiraj\u001b[0m\u001b[1;33m(\u001b[0m\u001b[0man_lex\u001b[0m\u001b[1;33m(\u001b[0m\u001b[0mizraz\u001b[0m\u001b[1;33m)\u001b[0m\u001b[1;33m)\u001b[0m\u001b[1;33m\u001b[0m\u001b[1;33m\u001b[0m\u001b[0m\n\u001b[0;32m      3\u001b[0m     \u001b[0mprint\u001b[0m\u001b[1;33m(\u001b[0m\u001b[0mstablo\u001b[0m\u001b[1;33m)\u001b[0m\u001b[1;33m\u001b[0m\u001b[1;33m\u001b[0m\u001b[0m\n\u001b[1;32m----> 4\u001b[1;33m     \u001b[0mmi\u001b[0m \u001b[1;33m=\u001b[0m \u001b[0mstablo\u001b[0m\u001b[1;33m.\u001b[0m\u001b[0mvrijednost\u001b[0m\u001b[1;33m(\u001b[0m\u001b[1;33m)\u001b[0m\u001b[1;33m\u001b[0m\u001b[1;33m\u001b[0m\u001b[0m\n\u001b[0m\u001b[0;32m      5\u001b[0m     \u001b[0mprint\u001b[0m\u001b[1;33m(\u001b[0m\u001b[0mizraz\u001b[0m\u001b[1;33m,\u001b[0m \u001b[1;34m'mi:'\u001b[0m\u001b[1;33m,\u001b[0m \u001b[0mmi\u001b[0m\u001b[1;33m)\u001b[0m\u001b[1;33m\u001b[0m\u001b[1;33m\u001b[0m\u001b[0m\n\u001b[0;32m      6\u001b[0m     \u001b[1;32mfor\u001b[0m \u001b[0minstrukcija\u001b[0m \u001b[1;32min\u001b[0m \u001b[0mstablo\u001b[0m\u001b[1;33m.\u001b[0m\u001b[0mprevedi\u001b[0m\u001b[1;33m(\u001b[0m\u001b[1;33m)\u001b[0m\u001b[1;33m:\u001b[0m \u001b[0mprint\u001b[0m\u001b[1;33m(\u001b[0m\u001b[1;34m'\\t'\u001b[0m\u001b[1;33m,\u001b[0m \u001b[1;33m*\u001b[0m\u001b[0minstrukcija\u001b[0m\u001b[1;33m)\u001b[0m\u001b[1;33m\u001b[0m\u001b[1;33m\u001b[0m\u001b[0m\n",
      "\u001b[1;32m<ipython-input-10-01d810bc439a>\u001b[0m in \u001b[0;36mvrijednost\u001b[1;34m(izraz)\u001b[0m\n\u001b[0;32m      3\u001b[0m         \u001b[0ma\u001b[0m\u001b[1;33m,\u001b[0m \u001b[0mb\u001b[0m \u001b[1;33m=\u001b[0m \u001b[0mizraz\u001b[0m\u001b[1;33m.\u001b[0m\u001b[0msadrzaj\u001b[0m\u001b[1;33m\u001b[0m\u001b[1;33m\u001b[0m\u001b[0m\n\u001b[0;32m      4\u001b[0m         \u001b[1;32mif\u001b[0m \u001b[1;33m(\u001b[0m\u001b[0mint\u001b[0m\u001b[1;33m(\u001b[0m\u001b[0ma\u001b[0m\u001b[1;33m.\u001b[0m\u001b[0mvrijednost\u001b[0m\u001b[1;33m(\u001b[0m\u001b[1;33m)\u001b[0m\u001b[1;33m)\u001b[0m\u001b[1;33m>\u001b[0m\u001b[0mint\u001b[0m\u001b[1;33m(\u001b[0m\u001b[0mb\u001b[0m\u001b[1;33m.\u001b[0m\u001b[0mvrijednost\u001b[0m\u001b[1;33m(\u001b[0m\u001b[1;33m)\u001b[0m\u001b[1;33m)\u001b[0m\u001b[1;33m)\u001b[0m\u001b[1;33m:\u001b[0m \u001b[1;32mreturn\u001b[0m \u001b[0ma\u001b[0m\u001b[1;33m.\u001b[0m\u001b[0mvrijednost\u001b[0m\u001b[1;33m(\u001b[0m\u001b[1;33m)\u001b[0m\u001b[1;33m\u001b[0m\u001b[1;33m\u001b[0m\u001b[0m\n\u001b[1;32m----> 5\u001b[1;33m         \u001b[1;32melse\u001b[0m\u001b[1;33m:\u001b[0m \u001b[1;32mraise\u001b[0m \u001b[0mSemantičkaGreška\u001b[0m\u001b[1;33m(\u001b[0m\u001b[0mint\u001b[0m\u001b[1;33m(\u001b[0m\u001b[0ma\u001b[0m\u001b[1;33m.\u001b[0m\u001b[0mvrijednost\u001b[0m\u001b[1;33m(\u001b[0m\u001b[1;33m)\u001b[0m\u001b[1;33m)\u001b[0m\u001b[1;33m,\u001b[0m \u001b[1;34m'nije veći od '\u001b[0m\u001b[1;33m,\u001b[0m \u001b[0mint\u001b[0m\u001b[1;33m(\u001b[0m\u001b[0mb\u001b[0m\u001b[1;33m.\u001b[0m\u001b[0mvrijednost\u001b[0m\u001b[1;33m(\u001b[0m\u001b[1;33m)\u001b[0m\u001b[1;33m)\u001b[0m\u001b[1;33m)\u001b[0m\u001b[1;33m\u001b[0m\u001b[1;33m\u001b[0m\u001b[0m\n\u001b[0m\u001b[0;32m      6\u001b[0m \u001b[1;33m\u001b[0m\u001b[0m\n\u001b[0;32m      7\u001b[0m     \u001b[1;32mdef\u001b[0m \u001b[0mprevedi\u001b[0m\u001b[1;33m(\u001b[0m\u001b[0mizraz\u001b[0m\u001b[1;33m)\u001b[0m\u001b[1;33m:\u001b[0m\u001b[1;33m\u001b[0m\u001b[1;33m\u001b[0m\u001b[0m\n",
      "\u001b[1;31mSemantičkaGreška\u001b[0m: (3, 'nije veći od ', 3)"
     ]
    }
   ],
   "source": [
    "testiraj('(2+1)>3')"
   ]
  },
  {
   "cell_type": "code",
   "execution_count": null,
   "metadata": {},
   "outputs": [],
   "source": []
  }
 ],
 "metadata": {
  "kernelspec": {
   "display_name": "Python 3",
   "language": "python",
   "name": "python3"
  },
  "language_info": {
   "codemirror_mode": {
    "name": "ipython",
    "version": 3
   },
   "file_extension": ".py",
   "mimetype": "text/x-python",
   "name": "python",
   "nbconvert_exporter": "python",
   "pygments_lexer": "ipython3",
   "version": "3.7.7"
  },
  "toc": {
   "base_numbering": 1,
   "nav_menu": {},
   "number_sections": true,
   "sideBar": true,
   "skip_h1_title": false,
   "title_cell": "Table of Contents",
   "title_sidebar": "Contents",
   "toc_cell": false,
   "toc_position": {},
   "toc_section_display": true,
   "toc_window_display": false
  }
 },
 "nbformat": 4,
 "nbformat_minor": 4
}
